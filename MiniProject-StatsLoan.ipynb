{
 "cells": [
  {
   "cell_type": "code",
   "execution_count": 52,
   "id": "edec63c6",
   "metadata": {},
   "outputs": [],
   "source": [
    "import pandas as pd"
   ]
  },
  {
   "cell_type": "code",
   "execution_count": 53,
   "id": "58930aa9",
   "metadata": {},
   "outputs": [],
   "source": [
    "data = pd.read_excel('loan_sanction.xlsx')"
   ]
  },
  {
   "cell_type": "markdown",
   "id": "d8e124b6",
   "metadata": {},
   "source": [
    "1. Check how many duplicate rows are present"
   ]
  },
  {
   "cell_type": "code",
   "execution_count": 54,
   "id": "bf2ea2e9",
   "metadata": {},
   "outputs": [
    {
     "name": "stdout",
     "output_type": "stream",
     "text": [
      "Number of Duplicate Rows: 3\n"
     ]
    }
   ],
   "source": [
    "print(\"Number of Duplicate Rows:\", data.duplicated().sum())"
   ]
  },
  {
   "cell_type": "markdown",
   "id": "4d3ca59b",
   "metadata": {},
   "source": [
    "2. If any Duplicates Present, drop those duplicates"
   ]
  },
  {
   "cell_type": "code",
   "execution_count": 55,
   "id": "f3c681fc",
   "metadata": {},
   "outputs": [
    {
     "name": "stdout",
     "output_type": "stream",
     "text": [
      "Number of Duplicate Rows: 0\n"
     ]
    }
   ],
   "source": [
    "data = data.drop_duplicates()\n",
    "print(\"Number of Duplicate Rows:\", data.duplicated().sum())"
   ]
  },
  {
   "cell_type": "markdown",
   "id": "a00c308d",
   "metadata": {},
   "source": [
    "3. Check null values in each column"
   ]
  },
  {
   "cell_type": "code",
   "execution_count": 56,
   "id": "76f71c51",
   "metadata": {},
   "outputs": [
    {
     "name": "stdout",
     "output_type": "stream",
     "text": [
      "Null Values in Each Column:\n",
      "Loan_ID                0\n",
      "Gender                 2\n",
      "Married                0\n",
      "Dependents            11\n",
      "Education              0\n",
      "Self_Employed          0\n",
      "Applicant_Income       0\n",
      "Coapplicant_Income     0\n",
      "LoanAmount             0\n",
      "Loan_Amount_Term       0\n",
      "Credit_History         0\n",
      "Property_Area          0\n",
      "dtype: int64\n"
     ]
    }
   ],
   "source": [
    "print(\"Null Values in Each Column:\")\n",
    "print(data.isnull().sum())"
   ]
  },
  {
   "cell_type": "markdown",
   "id": "0ca0e0a2",
   "metadata": {},
   "source": [
    "4. Delete the Rows which are having null values."
   ]
  },
  {
   "cell_type": "code",
   "execution_count": 57,
   "id": "d498f82b",
   "metadata": {},
   "outputs": [],
   "source": [
    "data = data.dropna()\n"
   ]
  },
  {
   "cell_type": "markdown",
   "id": "85a69230",
   "metadata": {},
   "source": [
    "5. Impute null values with Mode in Gender Column"
   ]
  },
  {
   "cell_type": "code",
   "execution_count": 58,
   "id": "29b28046",
   "metadata": {},
   "outputs": [],
   "source": [
    "data['Gender'].fillna(data['Gender'].mode()[0], inplace=True)"
   ]
  },
  {
   "cell_type": "markdown",
   "id": "25744361",
   "metadata": {},
   "source": [
    "6. Impute null values with Mode in Self_Employed Column"
   ]
  },
  {
   "cell_type": "code",
   "execution_count": 59,
   "id": "17350b38",
   "metadata": {},
   "outputs": [],
   "source": [
    "data['Self_Employed'].fillna(data['Self_Employed'].mode()[0], inplace=True)"
   ]
  },
  {
   "cell_type": "markdown",
   "id": "e96c51e3",
   "metadata": {},
   "source": [
    "7. Impute null values with mean in LoanAmount Column"
   ]
  },
  {
   "cell_type": "code",
   "execution_count": null,
   "id": "4b0f5ecb",
   "metadata": {},
   "outputs": [],
   "source": []
  },
  {
   "cell_type": "markdown",
   "id": "903c80ed",
   "metadata": {},
   "source": [
    "8. Top 5 Records"
   ]
  },
  {
   "cell_type": "code",
   "execution_count": 60,
   "id": "c7b85cbc",
   "metadata": {},
   "outputs": [
    {
     "name": "stdout",
     "output_type": "stream",
     "text": [
      "    Loan_ID Gender Married Dependents     Education Self_Employed  \\\n",
      "0  LP001015   Male     Yes          0      Graduate            No   \n",
      "1  LP001022   Male     Yes          1      Graduate            No   \n",
      "2  LP001031   Male     Yes          2      Graduate            No   \n",
      "3  LP001035   Male                  2      Graduate            No   \n",
      "4  LP001051   Male      No          0  Not Graduate            No   \n",
      "\n",
      "  Applicant_Income  Coapplicant_Income LoanAmount  Loan_Amount_Term  \\\n",
      "0             5720                   0        110               360   \n",
      "1             3076                1500        126               360   \n",
      "2             5000                1800        208               360   \n",
      "3             2340                2546        100               360   \n",
      "4             3276                   0         78               360   \n",
      "\n",
      "  Credit_History Property_Area  \n",
      "0              1         Urban  \n",
      "1              1         Urban  \n",
      "2              1         Urban  \n",
      "3              1         Urban  \n",
      "4              1         Urban  \n"
     ]
    }
   ],
   "source": [
    "print(data.head())"
   ]
  },
  {
   "cell_type": "markdown",
   "id": "2a50c5d9",
   "metadata": {},
   "source": [
    "9. Export the dataframe in excel."
   ]
  },
  {
   "cell_type": "code",
   "execution_count": 61,
   "id": "1ee7582c",
   "metadata": {},
   "outputs": [
    {
     "data": {
      "text/html": [
       "<div>\n",
       "<style scoped>\n",
       "    .dataframe tbody tr th:only-of-type {\n",
       "        vertical-align: middle;\n",
       "    }\n",
       "\n",
       "    .dataframe tbody tr th {\n",
       "        vertical-align: top;\n",
       "    }\n",
       "\n",
       "    .dataframe thead th {\n",
       "        text-align: right;\n",
       "    }\n",
       "</style>\n",
       "<table border=\"1\" class=\"dataframe\">\n",
       "  <thead>\n",
       "    <tr style=\"text-align: right;\">\n",
       "      <th></th>\n",
       "      <th>Coapplicant_Income</th>\n",
       "      <th>Loan_Amount_Term</th>\n",
       "    </tr>\n",
       "  </thead>\n",
       "  <tbody>\n",
       "    <tr>\n",
       "      <th>count</th>\n",
       "      <td>370.000000</td>\n",
       "      <td>370.000000</td>\n",
       "    </tr>\n",
       "    <tr>\n",
       "      <th>mean</th>\n",
       "      <td>1568.308108</td>\n",
       "      <td>342.475676</td>\n",
       "    </tr>\n",
       "    <tr>\n",
       "      <th>std</th>\n",
       "      <td>2328.857392</td>\n",
       "      <td>64.961867</td>\n",
       "    </tr>\n",
       "    <tr>\n",
       "      <th>min</th>\n",
       "      <td>0.000000</td>\n",
       "      <td>6.000000</td>\n",
       "    </tr>\n",
       "    <tr>\n",
       "      <th>25%</th>\n",
       "      <td>0.000000</td>\n",
       "      <td>360.000000</td>\n",
       "    </tr>\n",
       "    <tr>\n",
       "      <th>50%</th>\n",
       "      <td>1012.500000</td>\n",
       "      <td>360.000000</td>\n",
       "    </tr>\n",
       "    <tr>\n",
       "      <th>75%</th>\n",
       "      <td>2437.250000</td>\n",
       "      <td>360.000000</td>\n",
       "    </tr>\n",
       "    <tr>\n",
       "      <th>max</th>\n",
       "      <td>24000.000000</td>\n",
       "      <td>480.000000</td>\n",
       "    </tr>\n",
       "  </tbody>\n",
       "</table>\n",
       "</div>"
      ],
      "text/plain": [
       "       Coapplicant_Income  Loan_Amount_Term\n",
       "count          370.000000        370.000000\n",
       "mean          1568.308108        342.475676\n",
       "std           2328.857392         64.961867\n",
       "min              0.000000          6.000000\n",
       "25%              0.000000        360.000000\n",
       "50%           1012.500000        360.000000\n",
       "75%           2437.250000        360.000000\n",
       "max          24000.000000        480.000000"
      ]
     },
     "execution_count": 61,
     "metadata": {},
     "output_type": "execute_result"
    }
   ],
   "source": [
    "excel_data = pd.read_excel('loan_sanction.xlsx')\n",
    "excel_data.describe()"
   ]
  },
  {
   "cell_type": "markdown",
   "id": "568d859c",
   "metadata": {},
   "source": [
    "10. Number of Rows and Columns in a DataFrame"
   ]
  },
  {
   "cell_type": "code",
   "execution_count": 62,
   "id": "eb291a56",
   "metadata": {},
   "outputs": [
    {
     "name": "stdout",
     "output_type": "stream",
     "text": [
      "(354, 12)\n"
     ]
    }
   ],
   "source": [
    "print(data.shape)"
   ]
  },
  {
   "cell_type": "markdown",
   "id": "6790a6ba",
   "metadata": {},
   "source": [
    "11. Print all Column names in a DF"
   ]
  },
  {
   "cell_type": "code",
   "execution_count": 63,
   "id": "54d46f9e",
   "metadata": {},
   "outputs": [
    {
     "name": "stdout",
     "output_type": "stream",
     "text": [
      "Column Names:\n",
      "Index(['Loan_ID', 'Gender', 'Married', 'Dependents', 'Education',\n",
      "       'Self_Employed', 'Applicant_Income', 'Coapplicant_Income', 'LoanAmount',\n",
      "       'Loan_Amount_Term', 'Credit_History', 'Property_Area'],\n",
      "      dtype='object')\n"
     ]
    }
   ],
   "source": [
    "print(\"Column Names:\")\n",
    "print(data.columns)\n"
   ]
  },
  {
   "cell_type": "markdown",
   "id": "63922efc",
   "metadata": {},
   "source": [
    "12. Generate the descriptive statistics of Numerical variables."
   ]
  },
  {
   "cell_type": "code",
   "execution_count": 64,
   "id": "f0ef1db6",
   "metadata": {},
   "outputs": [
    {
     "name": "stdout",
     "output_type": "stream",
     "text": [
      "Descriptive Statistics of Numerical Variables:\n",
      "       Coapplicant_Income  Loan_Amount_Term\n",
      "count          354.000000        354.000000\n",
      "mean          1600.548023        343.649718\n",
      "std           2362.752848         63.683276\n",
      "min              0.000000          6.000000\n",
      "25%              0.000000        360.000000\n",
      "50%           1083.000000        360.000000\n",
      "75%           2470.000000        360.000000\n",
      "max          24000.000000        480.000000\n"
     ]
    }
   ],
   "source": [
    "print(\"Descriptive Statistics of Numerical Variables:\")\n",
    "print(data.describe())"
   ]
  },
  {
   "cell_type": "markdown",
   "id": "21fc6db6",
   "metadata": {},
   "source": [
    "13. Display numeric data type columns in a DF"
   ]
  },
  {
   "cell_type": "code",
   "execution_count": 65,
   "id": "b6dd84ed",
   "metadata": {},
   "outputs": [
    {
     "name": "stdout",
     "output_type": "stream",
     "text": [
      "Numeric Data Type Columns:\n",
      "     Coapplicant_Income  Loan_Amount_Term\n",
      "0                     0               360\n",
      "1                  1500               360\n",
      "2                  1800               360\n",
      "3                  2546               360\n",
      "4                     0               360\n",
      "..                  ...               ...\n",
      "365                1777               360\n",
      "366                 709               360\n",
      "367                1993               360\n",
      "368                2393               360\n",
      "369                   0               180\n",
      "\n",
      "[354 rows x 2 columns]\n"
     ]
    }
   ],
   "source": [
    "print(\"Numeric Data Type Columns:\")\n",
    "print(data.select_dtypes(include='number'))"
   ]
  },
  {
   "cell_type": "markdown",
   "id": "02addf63",
   "metadata": {},
   "source": [
    "14. Select all data types of columns in a DF except object data type."
   ]
  },
  {
   "cell_type": "code",
   "execution_count": 66,
   "id": "affbf4f0",
   "metadata": {},
   "outputs": [
    {
     "name": "stdout",
     "output_type": "stream",
     "text": [
      "All Data Types Except Object:\n",
      "     Coapplicant_Income  Loan_Amount_Term\n",
      "0                     0               360\n",
      "1                  1500               360\n",
      "2                  1800               360\n",
      "3                  2546               360\n",
      "4                     0               360\n",
      "..                  ...               ...\n",
      "365                1777               360\n",
      "366                 709               360\n",
      "367                1993               360\n",
      "368                2393               360\n",
      "369                   0               180\n",
      "\n",
      "[354 rows x 2 columns]\n"
     ]
    }
   ],
   "source": [
    "print(\"All Data Types Except Object:\")\n",
    "print(data.select_dtypes(exclude='object'))"
   ]
  },
  {
   "cell_type": "markdown",
   "id": "ae5015a9",
   "metadata": {},
   "source": [
    "15. Extract all the Records where Self_Employed is equal to Yes."
   ]
  },
  {
   "cell_type": "code",
   "execution_count": 67,
   "id": "aa11e965",
   "metadata": {},
   "outputs": [
    {
     "name": "stdout",
     "output_type": "stream",
     "text": [
      "Records where Self_Employed is Yes:\n",
      "      Loan_ID  Gender Married Dependents     Education Self_Employed  \\\n",
      "6    LP001054    Male     Yes          0  Not Graduate           Yes   \n",
      "38   LP001210       ?     Yes          0      Graduate           Yes   \n",
      "39   LP001211    Male      No          0      Graduate           Yes   \n",
      "50   LP001270    Male     Yes         3+  Not Graduate           Yes   \n",
      "63   LP001335    Male     Yes          0      Graduate           Yes   \n",
      "75   LP001380    Male     Yes          0      Graduate           Yes   \n",
      "79   LP001413    Male      No          0      Graduate           Yes   \n",
      "92   LP001475    Male     Yes          0      Graduate           Yes   \n",
      "112  LP001584  Female       #          0      Graduate           Yes   \n",
      "134  LP001728    Male     Yes          1      Graduate           Yes   \n",
      "145  LP001791    Male     Yes          0      Graduate           Yes   \n",
      "146  LP001794    Male     Yes          2      Graduate           Yes   \n",
      "149  LP001817    Male      No          0  Not Graduate           Yes   \n",
      "157  LP001857    Male      No          0  Not Graduate           Yes   \n",
      "158  LP001862    Male     Yes          2      Graduate           Yes   \n",
      "197  LP002083    Male      No          0      Graduate           Yes   \n",
      "202  LP002105    Male     Yes          0      Graduate           Yes   \n",
      "214  LP002172    Male     Yes         3+      Graduate           Yes   \n",
      "220  LP002195    Male     Yes          1      Graduate           Yes   \n",
      "226  LP002256  Female      No          2      Graduate           Yes   \n",
      "233  LP002298    Male      No          0      Graduate           Yes   \n",
      "248  LP002358    Male     Yes          2      Graduate           Yes   \n",
      "250  LP002375    Male     Yes          0  Not Graduate           Yes   \n",
      "273  LP002482  Female      No          0      Graduate           Yes   \n",
      "302  LP002644    Male     Yes          1      Graduate           Yes   \n",
      "305  LP002657    Male     Yes          1  Not Graduate           Yes   \n",
      "308  LP002721    Male     Yes          2      Graduate           Yes   \n",
      "331  LP002806    Male     Yes         3+      Graduate           Yes   \n",
      "341  LP002857    Male     Yes          1      Graduate           Yes   \n",
      "343  LP002860    Male     Yes          0      Graduate           Yes   \n",
      "344  LP002867    Male      No          0      Graduate           Yes   \n",
      "352  LP002891    Male     Yes          0      Graduate           Yes   \n",
      "365  LP002971    Male     Yes         3+  Not Graduate           Yes   \n",
      "369  LP002989    Male      No          0      Graduate           Yes   \n",
      "\n",
      "    Applicant_Income  Coapplicant_Income LoanAmount  Loan_Amount_Term  \\\n",
      "6               2165                3422        152               360   \n",
      "38              2267                2792         90               360   \n",
      "39              5833                   0        116               360   \n",
      "50              8000                 250        187               360   \n",
      "63              7016                 292        125               360   \n",
      "75              3900                2094        232               360   \n",
      "79              6356                   0         50               360   \n",
      "92              3188                2286        130               360   \n",
      "112             4742                   0        108               360   \n",
      "134             3343                1517        105               360   \n",
      "145            32000                   0        550               360   \n",
      "146            10890                   0        260                12   \n",
      "149             8703                   0        199               360   \n",
      "157             1599                2474        125               300   \n",
      "158             4246                4246        214               360   \n",
      "197             5833                   0        116               360   \n",
      "202             8706                   0        108               480   \n",
      "214             5384                   0        150               360   \n",
      "220             3507                3148        212               360   \n",
      "226             5184                   0        187               360   \n",
      "233             2860                2988        138               360   \n",
      "248             5000                2166        150               360   \n",
      "250             3943                   0         64               360   \n",
      "273             3333                3916        212               360   \n",
      "302             7500                   0         75               360   \n",
      "305              570                2125         68               360   \n",
      "308             7500                   0        183               360   \n",
      "331             6958                1411        150               360   \n",
      "341             2360                3355         87               240   \n",
      "343             2623                4831        122               180   \n",
      "344             3972                4275        187               360   \n",
      "352             2500                 296        137               300   \n",
      "365             4009                1777        113               360   \n",
      "369             9200                   0         98               180   \n",
      "\n",
      "    Credit_History Property_Area  \n",
      "6                1         Urban  \n",
      "38               1         Urban  \n",
      "39               1         Urban  \n",
      "50               1     Semiurban  \n",
      "63               1         Urban  \n",
      "75               1         Rural  \n",
      "79               1         Rural  \n",
      "92               1         Rural  \n",
      "112              1     Semiurban  \n",
      "134              1         Rural  \n",
      "145              1     Semiurban  \n",
      "146              1         Rural  \n",
      "149              1         Rural  \n",
      "157              1     Semiurban  \n",
      "158              1         Urban  \n",
      "197              1         Urban  \n",
      "202              1         Rural  \n",
      "214              1     Semiurban  \n",
      "220              1         Rural  \n",
      "226              1     Semiurban  \n",
      "233              1         Urban  \n",
      "248              1         Urban  \n",
      "250              1     Semiurban  \n",
      "273              1         Rural  \n",
      "302              1         Urban  \n",
      "305              1         Rural  \n",
      "308              1         Rural  \n",
      "331              1         Rural  \n",
      "341              1         Rural  \n",
      "343              1     Semiurban  \n",
      "344              1         Rural  \n",
      "352              1         Rural  \n",
      "365              1         Urban  \n",
      "369              1         Rural  \n"
     ]
    }
   ],
   "source": [
    "self_employed_yes = data[data['Self_Employed'] == 'Yes']\n",
    "print(\"Records where Self_Employed is Yes:\")\n",
    "print(self_employed_yes)"
   ]
  },
  {
   "cell_type": "markdown",
   "id": "c0b4ccf4",
   "metadata": {},
   "source": [
    "16. Extract all the Records where Property_area is equal to urban in a DF."
   ]
  },
  {
   "cell_type": "code",
   "execution_count": 68,
   "id": "3b6b0198",
   "metadata": {},
   "outputs": [
    {
     "name": "stdout",
     "output_type": "stream",
     "text": [
      "Records where Property_Area is Urban:\n",
      "      Loan_ID  Gender Married Dependents     Education Self_Employed  \\\n",
      "0    LP001015    Male     Yes          0      Graduate            No   \n",
      "1    LP001022    Male     Yes          1      Graduate            No   \n",
      "2    LP001031    Male     Yes          2      Graduate            No   \n",
      "3    LP001035    Male                  2      Graduate            No   \n",
      "4    LP001051    Male      No          0  Not Graduate            No   \n",
      "..        ...     ...     ...        ...           ...           ...   \n",
      "359  LP002935    Male     Yes          1      Graduate            No   \n",
      "360  LP002952    Male      No          0      Graduate            No   \n",
      "363  LP002965  Female     Yes          0      Graduate            No   \n",
      "365  LP002971    Male     Yes         3+  Not Graduate           Yes   \n",
      "366  LP002975    Male     Yes          0      Graduate            No   \n",
      "\n",
      "    Applicant_Income  Coapplicant_Income LoanAmount  Loan_Amount_Term  \\\n",
      "0               5720                   0        110               360   \n",
      "1               3076                1500        126               360   \n",
      "2               5000                1800        208               360   \n",
      "3               2340                2546        100               360   \n",
      "4               3276                   0         78               360   \n",
      "..               ...                 ...        ...               ...   \n",
      "359             3791                1936         85               360   \n",
      "360             2500                   0         60               360   \n",
      "363             8550                4255         96               360   \n",
      "365             4009                1777        113               360   \n",
      "366             4158                 709        115               360   \n",
      "\n",
      "    Credit_History Property_Area  \n",
      "0                1         Urban  \n",
      "1                1         Urban  \n",
      "2                1         Urban  \n",
      "3                1         Urban  \n",
      "4                1         Urban  \n",
      "..             ...           ...  \n",
      "359              1         Urban  \n",
      "360              1         Urban  \n",
      "363              1         Urban  \n",
      "365              1         Urban  \n",
      "366              1         Urban  \n",
      "\n",
      "[135 rows x 12 columns]\n"
     ]
    }
   ],
   "source": [
    "urban_records = data[data['Property_Area'] == 'Urban']\n",
    "print(\"Records where Property_Area is Urban:\")\n",
    "print(urban_records)"
   ]
  },
  {
   "cell_type": "markdown",
   "id": "dd7f7018",
   "metadata": {},
   "source": [
    "17. Print number of unique vaues in Gender column"
   ]
  },
  {
   "cell_type": "code",
   "execution_count": 69,
   "id": "1e2f0bd1",
   "metadata": {},
   "outputs": [
    {
     "name": "stdout",
     "output_type": "stream",
     "text": [
      "Number of Unique Values in Gender Column: 3\n"
     ]
    }
   ],
   "source": [
    "print(\"Number of Unique Values in Gender Column:\", data['Gender'].nunique())"
   ]
  },
  {
   "cell_type": "markdown",
   "id": "1864231a",
   "metadata": {},
   "source": [
    "18. Check outliers in Loan amount and credit history column and replace them with mean."
   ]
  },
  {
   "cell_type": "code",
   "execution_count": null,
   "id": "9d1203fe",
   "metadata": {},
   "outputs": [],
   "source": []
  },
  {
   "cell_type": "markdown",
   "id": "d4a40b2a",
   "metadata": {},
   "source": [
    "19. Check for correlations of all variables."
   ]
  },
  {
   "cell_type": "code",
   "execution_count": 70,
   "id": "69ab053c",
   "metadata": {},
   "outputs": [
    {
     "name": "stdout",
     "output_type": "stream",
     "text": [
      "Correlation Matrix:\n",
      "                    Coapplicant_Income  Loan_Amount_Term\n",
      "Coapplicant_Income            1.000000         -0.009898\n",
      "Loan_Amount_Term             -0.009898          1.000000\n"
     ]
    }
   ],
   "source": [
    "correlation_matrix = data.corr(numeric_only=True)\n",
    "print(\"Correlation Matrix:\")\n",
    "print(correlation_matrix)\n"
   ]
  },
  {
   "cell_type": "code",
   "execution_count": null,
   "id": "c75c1f0c",
   "metadata": {},
   "outputs": [],
   "source": []
  },
  {
   "cell_type": "code",
   "execution_count": null,
   "id": "862707e0",
   "metadata": {},
   "outputs": [],
   "source": []
  }
 ],
 "metadata": {
  "kernelspec": {
   "display_name": "Python 3 (ipykernel)",
   "language": "python",
   "name": "python3"
  },
  "language_info": {
   "codemirror_mode": {
    "name": "ipython",
    "version": 3
   },
   "file_extension": ".py",
   "mimetype": "text/x-python",
   "name": "python",
   "nbconvert_exporter": "python",
   "pygments_lexer": "ipython3",
   "version": "3.10.9"
  }
 },
 "nbformat": 4,
 "nbformat_minor": 5
}
